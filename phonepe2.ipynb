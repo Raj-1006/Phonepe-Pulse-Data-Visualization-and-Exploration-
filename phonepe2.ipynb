{
 "cells": [
  {
   "cell_type": "code",
   "execution_count": 1,
   "metadata": {},
   "outputs": [
    {
     "name": "stdout",
     "output_type": "stream",
     "text": [
      "Requirement already satisfied: nbformat in c:\\users\\mypc\\desktop\\project\\.venv\\capstone 1\\.venv\\lib\\site-packages (5.10.4)\n",
      "Requirement already satisfied: fastjsonschema>=2.15 in c:\\users\\mypc\\desktop\\project\\.venv\\capstone 1\\.venv\\lib\\site-packages (from nbformat) (2.20.0)\n",
      "Requirement already satisfied: jsonschema>=2.6 in c:\\users\\mypc\\desktop\\project\\.venv\\capstone 1\\.venv\\lib\\site-packages (from nbformat) (4.22.0)\n",
      "Requirement already satisfied: jupyter-core!=5.0.*,>=4.12 in c:\\users\\mypc\\desktop\\project\\.venv\\capstone 1\\.venv\\lib\\site-packages (from nbformat) (5.7.2)\n",
      "Requirement already satisfied: traitlets>=5.1 in c:\\users\\mypc\\desktop\\project\\.venv\\capstone 1\\.venv\\lib\\site-packages (from nbformat) (5.14.3)\n",
      "Requirement already satisfied: attrs>=22.2.0 in c:\\users\\mypc\\desktop\\project\\.venv\\capstone 1\\.venv\\lib\\site-packages (from jsonschema>=2.6->nbformat) (23.2.0)\n",
      "Requirement already satisfied: jsonschema-specifications>=2023.03.6 in c:\\users\\mypc\\desktop\\project\\.venv\\capstone 1\\.venv\\lib\\site-packages (from jsonschema>=2.6->nbformat) (2023.12.1)\n",
      "Requirement already satisfied: referencing>=0.28.4 in c:\\users\\mypc\\desktop\\project\\.venv\\capstone 1\\.venv\\lib\\site-packages (from jsonschema>=2.6->nbformat) (0.35.1)\n",
      "Requirement already satisfied: rpds-py>=0.7.1 in c:\\users\\mypc\\desktop\\project\\.venv\\capstone 1\\.venv\\lib\\site-packages (from jsonschema>=2.6->nbformat) (0.18.1)\n",
      "Requirement already satisfied: platformdirs>=2.5 in c:\\users\\mypc\\desktop\\project\\.venv\\capstone 1\\.venv\\lib\\site-packages (from jupyter-core!=5.0.*,>=4.12->nbformat) (4.2.2)\n",
      "Requirement already satisfied: pywin32>=300 in c:\\users\\mypc\\desktop\\project\\.venv\\capstone 1\\.venv\\lib\\site-packages (from jupyter-core!=5.0.*,>=4.12->nbformat) (306)\n",
      "Note: you may need to restart the kernel to use updated packages.\n"
     ]
    },
    {
     "name": "stderr",
     "output_type": "stream",
     "text": [
      "\n",
      "[notice] A new release of pip is available: 24.0 -> 24.2\n",
      "[notice] To update, run: python.exe -m pip install --upgrade pip\n"
     ]
    }
   ],
   "source": [
    "pip install nbformat"
   ]
  },
  {
   "cell_type": "code",
   "execution_count": 1,
   "metadata": {},
   "outputs": [],
   "source": [
    "import pandas as pd\n",
    "import mysql.connector\n",
    "import plotly.express as px\n",
    "import json\n",
    "import requests"
   ]
  },
  {
   "cell_type": "code",
   "execution_count": 3,
   "metadata": {},
   "outputs": [],
   "source": [
    "#CONNECTION TO MYSQL\n",
    "mydb = mysql.connector.connect(\n",
    "            host=\"localhost\",\n",
    "            user=\"root\",\n",
    "            password=\"Raj$1006\",\n",
    "            database=\"phonepe_data\",\n",
    "            port=\"3306\")\n",
    "cursor = mydb.cursor()\n",
    "\n",
    "# AGGREGATED_INSURANCE\n",
    "# Using a buffered cursor\n",
    "cursor = mydb.cursor(buffered=True)\n",
    "try:\n",
    "    cursor.execute(\"SELECT * FROM aggregated_insurance\")\n",
    "    mydb.commit()\n",
    "    table1 = cursor.fetchall() \n",
    "    Aggre_insurance = pd.DataFrame(table1,columns = (\"States\", \"Years\", \"Quarter\", \"Transaction_type\", \"Transaction_count\", \"Transaction_amount\"))\n",
    "finally:\n",
    "    cursor.close()\n",
    "    mydb.close()\n",
    "\n",
    "# Again we are making a datframe. why? Bcoz in project they said.\n",
    "#InternalError: Unread result found\n",
    "#When using a cursor in MySQL, you need to fetch all the rows from the result set of one query before executing another query with the same cursor.\n",
    "#  If you don't, MySQL may throw an InternalError because it's still waiting for you to read the remaining data.\n",
    "# Buffered cursor --> Simplicity, error prevention, performance though large data"
   ]
  },
  {
   "cell_type": "code",
   "execution_count": 4,
   "metadata": {},
   "outputs": [],
   "source": [
    "#CONNECTION TO MYSQL\n",
    "mydb = mysql.connector.connect(\n",
    "            host=\"localhost\",\n",
    "            user=\"root\",\n",
    "            password=\"Raj$1006\",\n",
    "            database=\"phonepe_data\",\n",
    "            port=\"3306\")\n",
    "cursor = mydb.cursor()\n",
    "\n",
    "#AGGREGATED_TRANSACTION\n",
    "cursor = mydb.cursor(buffered=True)\n",
    "try:\n",
    "    cursor.execute(\"SELECT * FROM aggregated_transaction\")\n",
    "    mydb.commit()\n",
    "    table2 = cursor.fetchall()\n",
    "    Aggre_transaction = pd.DataFrame(table2,columns = (\"States\", \"Years\", \"Quarter\", \"Transaction_type\", \"Transaction_count\", \"Transaction_amount\"))\n",
    "finally:\n",
    "    cursor.close()\n",
    "    mydb.close()\n"
   ]
  },
  {
   "cell_type": "code",
   "execution_count": 5,
   "metadata": {},
   "outputs": [],
   "source": [
    "#CONNECTION TO MYSQL\n",
    "mydb = mysql.connector.connect(\n",
    "            host=\"localhost\",\n",
    "            user=\"root\",\n",
    "            password=\"Raj$1006\",\n",
    "            database=\"phonepe_data\",\n",
    "            port=\"3306\")\n",
    "cursor = mydb.cursor()\n",
    "\n",
    "#AGGREGATED_USER\n",
    "cursor = mydb.cursor(buffered=True)\n",
    "try:\n",
    "    cursor.execute(\"SELECT * FROM aggregated_user\")\n",
    "    mydb.commit()\n",
    "    table3 = cursor.fetchall()\n",
    "    Aggre_user = pd.DataFrame(table3,columns = (\"States\", \"Years\", \"Quarter\", \"Brands\", \"Transaction_count\", \"Percentage\"))\n",
    "finally:\n",
    "    cursor.close()\n",
    "    mydb.close()\n"
   ]
  },
  {
   "cell_type": "code",
   "execution_count": 6,
   "metadata": {},
   "outputs": [],
   "source": [
    "#CONNECTION TO MYSQL\n",
    "mydb = mysql.connector.connect(\n",
    "            host=\"localhost\",\n",
    "            user=\"root\",\n",
    "            password=\"Raj$1006\",\n",
    "            database=\"phonepe_data\",\n",
    "            port=\"3306\")\n",
    "cursor = mydb.cursor()\n",
    "\n",
    "#MAP_INSURANCE\n",
    "cursor = mydb.cursor(buffered=True)\n",
    "try:\n",
    "    cursor.execute(\"SELECT * FROM map_insurance\")\n",
    "    mydb.commit()\n",
    "    table4 = cursor.fetchall()\n",
    "    Map_insurance = pd.DataFrame(table4,columns = (\"States\", \"Years\", \"Quarter\", \"Districts\", \"Transaction_count\", \"Transaction_amount\"))\n",
    "finally:\n",
    "    cursor.close()\n",
    "    mydb.close()"
   ]
  },
  {
   "cell_type": "code",
   "execution_count": 7,
   "metadata": {},
   "outputs": [],
   "source": [
    "#CONNECTION TO MYSQL\n",
    "mydb = mysql.connector.connect(\n",
    "            host=\"localhost\",\n",
    "            user=\"root\",\n",
    "            password=\"Raj$1006\",\n",
    "            database=\"phonepe_data\",\n",
    "            port=\"3306\")\n",
    "cursor = mydb.cursor()\n",
    "\n",
    "#MAP_TRANSACTION\n",
    "cursor = mydb.cursor(buffered=True)\n",
    "try:\n",
    "    cursor.execute(\"SELECT * FROM map_transaction\")\n",
    "    mydb.commit()\n",
    "    table5 = cursor.fetchall()\n",
    "    Map_transaction = pd.DataFrame(table5,columns = (\"States\", \"Years\", \"Quarter\", \"District\", \"Transaction_count\", \"Transaction_amount\"))\n",
    "finally:\n",
    "    cursor.close()\n",
    "    mydb.close()"
   ]
  },
  {
   "cell_type": "code",
   "execution_count": 8,
   "metadata": {},
   "outputs": [],
   "source": [
    "#CONNECTION TO MYSQL\n",
    "mydb = mysql.connector.connect(\n",
    "            host=\"localhost\",\n",
    "            user=\"root\",\n",
    "            password=\"Raj$1006\",\n",
    "            database=\"phonepe_data\",\n",
    "            port=\"3306\")\n",
    "cursor = mydb.cursor()\n",
    "\n",
    "#MAP_USER\n",
    "cursor = mydb.cursor(buffered=True)\n",
    "try:\n",
    "    cursor.execute(\"SELECT * FROM map_user\")\n",
    "    mydb.commit()\n",
    "    table6 = cursor.fetchall()\n",
    "    Map_user = pd.DataFrame(table6,columns = (\"States\", \"Years\", \"Quarter\", \"Districts\", \"RegisteredUser\", \"AppOpens\"))\n",
    "finally:\n",
    "    cursor.close()\n",
    "    mydb.close()"
   ]
  },
  {
   "cell_type": "code",
   "execution_count": 9,
   "metadata": {},
   "outputs": [],
   "source": [
    "#CONNECTION TO MYSQL\n",
    "mydb = mysql.connector.connect(\n",
    "            host=\"localhost\",\n",
    "            user=\"root\",\n",
    "            password=\"Raj$1006\",\n",
    "            database=\"phonepe_data\",\n",
    "            port=\"3306\")\n",
    "cursor = mydb.cursor()\n",
    "\n",
    "#TOP_INSURANCE\n",
    "cursor = mydb.cursor(buffered=True)\n",
    "try:\n",
    "    cursor.execute(\"SELECT * FROM top_insurance\")\n",
    "    mydb.commit()\n",
    "    table7 = cursor.fetchall()\n",
    "    Top_insurance = pd.DataFrame(table7,columns = (\"States\", \"Years\", \"Quarter\", \"Pincodes\", \"Transaction_count\", \"Transaction_amount\"))\n",
    "finally:\n",
    "    cursor.close()\n",
    "    mydb.close()"
   ]
  },
  {
   "cell_type": "code",
   "execution_count": 10,
   "metadata": {},
   "outputs": [],
   "source": [
    "#CONNECTION TO MYSQL\n",
    "mydb = mysql.connector.connect(\n",
    "            host=\"localhost\",\n",
    "            user=\"root\",\n",
    "            password=\"Raj$1006\",\n",
    "            database=\"phonepe_data\",\n",
    "            port=\"3306\")\n",
    "cursor = mydb.cursor()\n",
    "\n",
    "#TOP_TRANSACTION\n",
    "cursor = mydb.cursor(buffered=True)\n",
    "try:\n",
    "    cursor.execute(\"SELECT * FROM top_transaction\")\n",
    "    mydb.commit()\n",
    "    table8 = cursor.fetchall()\n",
    "    Top_transaction = pd.DataFrame(table8,columns = (\"States\", \"Years\", \"Quarter\", \"Pincodes\", \"Transaction_count\", \"Transaction_amount\"))\n",
    "finally:\n",
    "    cursor.close()\n",
    "    mydb.close()"
   ]
  },
  {
   "cell_type": "code",
   "execution_count": 11,
   "metadata": {},
   "outputs": [],
   "source": [
    "#CONNECTION TO MYSQL\n",
    "mydb = mysql.connector.connect(\n",
    "            host=\"localhost\",\n",
    "            user=\"root\",\n",
    "            password=\"Raj$1006\",\n",
    "            database=\"phonepe_data\",\n",
    "            port=\"3306\")\n",
    "cursor = mydb.cursor()\n",
    "\n",
    "#TOP_USER\n",
    "cursor = mydb.cursor(buffered=True)\n",
    "try:\n",
    "    cursor.execute(\"SELECT * FROM top_user\")\n",
    "    mydb.commit()\n",
    "    table9 = cursor.fetchall()\n",
    "    Top_user = pd.DataFrame(table9,columns = (\"States\", \"Years\", \"Quarter\", \"Pincodes\", \"RegisteredUsers\"))\n",
    "finally:\n",
    "    cursor.close()\n",
    "    mydb.close()"
   ]
  },
  {
   "cell_type": "code",
   "execution_count": 32,
   "metadata": {},
   "outputs": [],
   "source": [
    "#CONNECTION TO MYSQL\n",
    "def top_chart_insurance_amount(table_name):\n",
    "    mydb = mysql.connector.connect(\n",
    "                host=\"localhost\",\n",
    "                user=\"root\",\n",
    "                password=\"Raj$1006\",\n",
    "                database=\"phonepe_data\",\n",
    "                port=\"3306\")\n",
    "    cursor = mydb.cursor()\n",
    "\n",
    "    # INSURANCE AMOUNT DESC\n",
    "    query1 = f'''SELECT States,sum(Insurance_amount) as Insurance_amount\n",
    "                 FROM phonepe_data.{table_name}\n",
    "                 group by states\n",
    "                 order by Insurance_amount desc\n",
    "                 limit 5;'''\n",
    "    cursor.execute(query1)\n",
    "    table_1=cursor.fetchall()\n",
    "    mydb.commit()\n",
    "\n",
    "    df_1=pd.DataFrame(table_1, columns=(\"States\", \"Insurance_amount\"))\n",
    "    fig_amount_1 = px.bar(df_1, x=\"States\",y=\"Insurance_amount\", title = \"TOP 5 INSURANCE AMOUNT\")\n",
    "    fig_amount_1.show()\n",
    "\n",
    "\n",
    "    #INSURANCE AMOUNT ASC\n",
    "    query2 = f'''SELECT States,sum(Insurance_amount) as Insurance_amount\n",
    "                 FROM phonepe_data.{table_name}\n",
    "                 group by states\n",
    "                 order by Insurance_amount asc\n",
    "                 limit 5;'''\n",
    "    cursor.execute(query2)\n",
    "    table_2=cursor.fetchall()\n",
    "    mydb.commit()\n",
    "\n",
    "    df_2=pd.DataFrame(table_2, columns=(\"States\", \"Insurance_amount\"))\n",
    "    fig_amount_2 = px.bar(df_2, x=\"States\",y=\"Insurance_amount\", title = \"LAST 5 INSURANCE AMOUNT\")\n",
    "    fig_amount_2.show()\n",
    "\n",
    "\n",
    "    #INSURANCE AMOUNT AVERAGE\n",
    "    query3 = f'''SELECT States,avg(Insurance_amount) as Insurance_amount\n",
    "                 FROM phonepe_data.{table_name}\n",
    "                 group by states\n",
    "                 order by Insurance_amount;'''\n",
    "    cursor.execute(query3)\n",
    "    table_3=cursor.fetchall()\n",
    "    mydb.commit()\n",
    "\n",
    "    df_3=pd.DataFrame(table_3, columns=(\"States\", \"Insurance_amount\"))\n",
    "    fig_amount_3 = px.bar(df_3, x=\"States\",y=\"Insurance_amount\", title = \"AVERAGE INSURANCE AMOUNT\")\n",
    "    fig_amount_3.show()"
   ]
  },
  {
   "cell_type": "code",
   "execution_count": 36,
   "metadata": {},
   "outputs": [],
   "source": [
    "#CONNECTION TO MYSQL\n",
    "def top_chart_insurance_count(table_name):\n",
    "    mydb = mysql.connector.connect(\n",
    "                host=\"localhost\",\n",
    "                user=\"root\",\n",
    "                password=\"Raj$1006\",\n",
    "                database=\"phonepe_data\",\n",
    "                port=\"3306\")\n",
    "    cursor = mydb.cursor()\n",
    "\n",
    "    # INSURANCE COUNT DESC\n",
    "    query1 = f'''SELECT States,sum(Insurance_count) as Insurance_count\n",
    "                 FROM phonepe_data.{table_name}\n",
    "                 group by states\n",
    "                 order by Insurance_count desc\n",
    "                 limit 5;'''\n",
    "    cursor.execute(query1)\n",
    "    table_1=cursor.fetchall()\n",
    "    mydb.commit()\n",
    "\n",
    "    df_1=pd.DataFrame(table_1, columns=(\"States\", \"Insurance_count\"))\n",
    "    fig_amount_1 = px.bar(df_1, x=\"States\",y=\"Insurance_count\", title = \"TOP 5 INSURANCE COUNT\")\n",
    "    fig_amount_1.show()\n",
    "\n",
    "\n",
    "    #INSURANCE COUNT ASC\n",
    "    query2 = f'''SELECT States,sum(Insurance_count) as Insurance_count\n",
    "                 FROM phonepe_data.{table_name}\n",
    "                 group by states\n",
    "                 order by Insurance_count asc\n",
    "                 limit 5;'''\n",
    "    cursor.execute(query2)\n",
    "    table_2=cursor.fetchall()\n",
    "    mydb.commit()\n",
    "\n",
    "    df_2=pd.DataFrame(table_2, columns=(\"States\", \"Insurance_count\"))\n",
    "    fig_amount_2 = px.bar(df_2, x=\"States\",y=\"Insurance_count\", title = \"LAST 5 INSURANCE COUNT\")\n",
    "    fig_amount_2.show()\n",
    "\n",
    "\n",
    "    #INSURANCE COUNT AVERAGE\n",
    "    query3 = f'''SELECT States,avg(Insurance_count) as Insurance_count\n",
    "                 FROM phonepe_data.{table_name}\n",
    "                 group by states\n",
    "                 order by Insurance_count;'''\n",
    "    cursor.execute(query3)\n",
    "    table_3=cursor.fetchall()\n",
    "    mydb.commit()\n",
    "\n",
    "    df_3=pd.DataFrame(table_3, columns=(\"States\", \"Insurance_count\"))\n",
    "    fig_amount_3 = px.bar(df_3, x=\"States\",y=\"Insurance_count\", title = \"AVERAGE INSURANCE COUNT\")\n",
    "    fig_amount_3.show()"
   ]
  },
  {
   "cell_type": "code",
   "execution_count": null,
   "metadata": {},
   "outputs": [],
   "source": [
    "#CONNECTION TO MYSQL\n",
    "def top_chart_registered_user(table_name,state):\n",
    "    mydb = mysql.connector.connect(\n",
    "                host=\"localhost\",\n",
    "                user=\"root\",\n",
    "                password=\"Raj$1006\",\n",
    "                database=\"phonepe_data\",\n",
    "                port=\"3306\")\n",
    "    cursor = mydb.cursor()\n",
    "\n",
    "    # INSURANCE AMOUNT DESC\n",
    "    query1 = f'''SELECT Districts, sum(RegisteredUser) as RegisteredUser\n",
    "                    FROM phonepe_data.{table_name}\n",
    "                    where states= {state}\n",
    "                    group by districts\n",
    "                    order by RegisteredUser desc\n",
    "                    limit 5;'''\n",
    "    cursor.execute(query1)\n",
    "    table_1=cursor.fetchall()\n",
    "    mydb.commit()\n",
    "\n",
    "    df_1=pd.DataFrame(table_1, columns=(\"districts\", \"RegisteredUser\"))\n",
    "    fig_amount_1 = px.bar(df_1, x=\"districts\",y=\"RegisteredUser\", title = \"TOP 5 REGISTERED USER\")\n",
    "    fig_amount_1.show()\n",
    "\n",
    "\n",
    "    #INSURANCE AMOUNT ASC\n",
    "    query2 = f'''SELECT Districts, sum(RegisteredUser) as RegisteredUser\n",
    "                    FROM phonepe_data.{table_name}\n",
    "                    where states= {state}\n",
    "                    group by districts\n",
    "                    order by RegisteredUser asc\n",
    "                    limit 5;'''\n",
    "    cursor.execute(query2)\n",
    "    table_2=cursor.fetchall()\n",
    "    mydb.commit()\n",
    "\n",
    "    df_2=pd.DataFrame(table_2, columns=(\"districts\", \"RegisteredUser\"))\n",
    "    fig_amount_2 = px.bar(df_2, x=\"districts\",y=\"RegisteredUser\", title = \"LAST 5 REGISTERED USER\")\n",
    "    fig_amount_2.show()\n",
    "\n",
    "\n",
    "    #INSURANCE AMOUNT AVERAGE\n",
    "    query3 = f'''SELECT Districts, avg(RegisteredUser) as RegisteredUser\n",
    "                    FROM phonepe_data.{table_name}\n",
    "                    where states= {state}\n",
    "                    group by districts\n",
    "                    order by RegisteredUser;'''\n",
    "    cursor.execute(query3)\n",
    "    table_3=cursor.fetchall()\n",
    "    mydb.commit()\n",
    "\n",
    "    df_3=pd.DataFrame(table_3, columns=(\"districts\", \"RegisteredUser\"))\n",
    "    fig_amount_3 = px.bar(df_3, x=\"districts\",y=\"RegisteredUser\", title = \"AVERAGE REGISTERED USER\")\n",
    "    fig_amount_3.show()"
   ]
  },
  {
   "cell_type": "code",
   "execution_count": null,
   "metadata": {},
   "outputs": [],
   "source": [
    "top_chart_insurance_amount(\"aggregated_insurance\")"
   ]
  },
  {
   "cell_type": "code",
   "execution_count": null,
   "metadata": {},
   "outputs": [],
   "source": [
    "top_chart_insurance_count(\"aggregated_insurance\")"
   ]
  },
  {
   "cell_type": "code",
   "execution_count": 12,
   "metadata": {},
   "outputs": [],
   "source": [
    "# TRANSACTION YEAR BASED\n",
    "def Transaction_amount_count_Y(df,year):\n",
    "    tacy = df[df[\"Years\"] == year] # Year df\n",
    "    tacy.reset_index(drop=True, inplace = True)\n",
    "\n",
    "    tacyg = tacy.groupby(\"States\")[[\"Transaction_count\",\"Transaction_amount\"]].sum()\n",
    "    tacyg.reset_index(inplace=True)\n",
    "\n",
    "    fig_amount = px.bar(tacyg, x=\"States\",y=\"Transaction_amount\", title = f\"TRANSACTION AMOUNT-{year}\")\n",
    "    fig_amount.show()\n",
    "\n",
    "\n",
    "    fig_count = px.bar(tacyg, x=\"States\",y=\"Transaction_count\", title = f\"TRANSACTION COUNT-{year}\")\n",
    "    fig_count.show()\n",
    "\n",
    "    # India's state wise latitude and longitude\n",
    "    url = \"https://gist.githubusercontent.com/jbrobst/56c13bbbf9d97d187fea01ca62ea5112/raw/e388c4cae20aa53cb5090210a42ebb9b765c0a36/india_states.geojson\"\n",
    "    response = requests.get(url)\n",
    "    data=json.loads(response.content)\n",
    "    states_name=[]\n",
    "    for feature in data[\"features\"]:\n",
    "        states_name.append(feature[\"properties\"][\"ST_NM\"])\n",
    "    states_name.sort()\n",
    "\n",
    "    fig_india_1=px.choropleth(tacyg, geojson=data, locations=\"States\", featureidkey=\"properties.ST_NM\",\n",
    "                              color=\"Transaction_amount\", color_continuous_scale=\"Rainbow\", range_color=(tacyg[\"Transaction_amount\"].min(),tacyg[\"Transaction_amount\"].min()),\n",
    "                              hover_name=\"States\", title=f\"{year}TRANSACTION AMOUNT\", fitbounds=\"locations\")\n",
    "    fig_india_1.update_geos(visible = False)\n",
    "    fig_india_1.show()\n",
    "    #Fit bounds --> Fit india from world map\n",
    "\n",
    "    fig_india_2=px.choropleth(tacyg, geojson=data, locations=\"States\", featureidkey=\"properties.ST_NM\",\n",
    "                              color=\"Transaction_count\", color_continuous_scale=\"Rainbow\", range_color=(tacyg[\"Transaction_count\"].min(),tacyg[\"Transaction_count\"].min()),\n",
    "                              hover_name=\"States\", title=f\"{year}TRANSACTION COUNT\", fitbounds=\"locations\")\n",
    "    fig_india_2.update_geos(visible = False)\n",
    "    fig_india_2.show()\n",
    "\n",
    "    return tacy"
   ]
  },
  {
   "cell_type": "code",
   "execution_count": 13,
   "metadata": {},
   "outputs": [],
   "source": [
    "# For Quarter\n",
    "def Transaction_amount_count_Y_Q(df,quarter):\n",
    "    tacy = df[df[\"Quarter\"] == quarter] # Year df\n",
    "    tacy.reset_index(drop=True, inplace = True)\n",
    "\n",
    "    tacyg = tacy.groupby(\"States\")[[\"Transaction_count\",\"Transaction_amount\"]].sum()\n",
    "    tacyg.reset_index(inplace=True)\n",
    "\n",
    "    fig_amount = px.bar(tacyg, x=\"States\",y=\"Transaction_amount\", title = f\"{tacy[\"Years\"].min()}-YEAR QUARTER-{quarter} TRANSACTION AMOUNT\")\n",
    "    fig_amount.show()\n",
    "\n",
    "\n",
    "    fig_count = px.bar(tacyg, x=\"States\",y=\"Transaction_count\", title = f\"{tacy[\"Years\"].min()}-YEAR QUARTER-{quarter} TRANSACTION AMOUNT\")\n",
    "    fig_count.show()\n",
    "\n",
    "    # India's state wise latitude and longitude\n",
    "    url = \"https://gist.githubusercontent.com/jbrobst/56c13bbbf9d97d187fea01ca62ea5112/raw/e388c4cae20aa53cb5090210a42ebb9b765c0a36/india_states.geojson\"\n",
    "    response = requests.get(url)\n",
    "    data1=json.loads(response.content)\n",
    "    states_name=[]\n",
    "    for feature in data1[\"features\"]:\n",
    "        states_name.append(feature[\"properties\"][\"ST_NM\"])\n",
    "    states_name.sort()\n",
    "\n",
    "    fig_india_1=px.choropleth(tacyg, geojson=data1, locations=\"States\", featureidkey=\"properties.ST_NM\",\n",
    "                              color=\"Transaction_amount\", color_continuous_scale=\"Rainbow\", range_color=(tacyg[\"Transaction_amount\"].min(),tacyg[\"Transaction_amount\"].min()),\n",
    "                              hover_name=\"States\", title=f\"{tacy[\"Years\"].min()}-YEAR QUARTER-{quarter} TRANSACTION AMOUNT\", fitbounds=\"locations\")\n",
    "    fig_india_1.update_geos(visible = False)\n",
    "    fig_india_1.show()\n",
    "    #Fit bounds --> Fit india from world map\n",
    "\n",
    "    fig_india_2=px.choropleth(tacyg, geojson=data1, locations=\"States\", featureidkey=\"properties.ST_NM\",\n",
    "                              color=\"Transaction_count\", color_continuous_scale=\"Rainbow\", range_color=(tacyg[\"Transaction_count\"].min(),tacyg[\"Transaction_count\"].min()),\n",
    "                              hover_name=\"States\", title=f\"{tacy[\"Years\"].min()}-YEAR QUARTER-{quarter} TRANSACTION COUNT\", fitbounds=\"locations\")\n",
    "    fig_india_2.update_geos(visible = False)\n",
    "    fig_india_2.show()\n",
    "\n",
    "    return tacy"
   ]
  },
  {
   "cell_type": "code",
   "execution_count": 14,
   "metadata": {},
   "outputs": [],
   "source": [
    "#TRANSACTION TYPE\n",
    "def Aggre_Tran_Transaction_type(df,state):\n",
    "    tacy = df[df[\"States\"] == state] # Year df\n",
    "    tacy.reset_index(drop=True, inplace = True)\n",
    "\n",
    "    tacyg = tacy.groupby(\"Transaction_type\")[[\"Transaction_count\",\"Transaction_amount\"]].sum()\n",
    "    tacyg.reset_index(inplace=True)\n",
    "\n",
    "    fig_pie_1 = px.pie(data_frame=tacyg, names= \"Transaction_type\", values= \"Transaction_amount\",\n",
    "                    title= f\"{state.upper()}-TRANSACTION AMOUNT\", hole= 0.5) \n",
    "    fig_pie_1.show()\n",
    "\n",
    "    fig_pie_2 = px.pie(data_frame=tacyg, names= \"Transaction_type\", values= \"Transaction_count\",\n",
    "                    title= f\"{state.upper()}-TRANSACTION COUNT\", hole= 0.5) \n",
    "    fig_pie_2.show()"
   ]
  },
  {
   "cell_type": "code",
   "execution_count": 15,
   "metadata": {},
   "outputs": [],
   "source": [
    "# AGGREGATED USER ANALYSIS\n",
    "def Aggre_user_plot_1(df,year):\n",
    "    aguy = df[df[\"Years\"]==year]\n",
    "    aguy.reset_index(drop=True, inplace =True)\n",
    "\n",
    "    aguyg = pd.DataFrame(aguy.groupby(\"Brands\")[\"Transaction_count\"].sum())\n",
    "    aguyg.reset_index(inplace = True)\n",
    "\n",
    "    fig_bar_1 = px.bar(aguyg, x=\"Brands\", y=\"Transaction_count\", title=f\"BRANDS & TRANSACTION COUNT-{year}\")\n",
    "    fig_bar_1.show()\n",
    "\n",
    "    return aguy"
   ]
  },
  {
   "cell_type": "code",
   "execution_count": 16,
   "metadata": {},
   "outputs": [],
   "source": [
    "# AGGREGATED USER ANALYSIS (QUARTER)\n",
    "def Aggre_user_plot_2(df,quarter):\n",
    "    aguyq = df[df[\"Quarter\"]==quarter]\n",
    "    aguyq.reset_index(drop=True, inplace =True)\n",
    "\n",
    "    #Grouping\n",
    "    aguyqg = pd.DataFrame(aguyq.groupby(\"Brands\")[\"Transaction_count\"].sum())\n",
    "    aguyqg.reset_index(inplace=True)\n",
    "\n",
    "\n",
    "    fig_bar_1 = px.bar(aguyqg, x=\"Brands\", y=\"Transaction_count\", title=f\"BRANDS & TRANSACTION COUNT-QUARTER {quarter}\")\n",
    "    fig_bar_1.show()\n",
    "\n",
    "    return aguyq"
   ]
  },
  {
   "cell_type": "code",
   "execution_count": 17,
   "metadata": {},
   "outputs": [],
   "source": [
    "# AGGREGATED USER ANALYSIS (STATE WISE)\n",
    "def Aggre_user_plot_3(df,state):\n",
    "    auyqs = df[df[\"States\"] == state]\n",
    "    auyqs.reset_index(drop=True, inplace=True)\n",
    "\n",
    "    fig_line_1 = px.line(auyqs, x=\"Brands\", y=\"Transaction_count\",\n",
    "                        title=f\"{state.upper()} - BRANDS, TRANSACTION COUNT\", markers=True)\n",
    "    fig_line_1.show()"
   ]
  },
  {
   "cell_type": "code",
   "execution_count": 18,
   "metadata": {},
   "outputs": [],
   "source": [
    "#MAP INSURANCE DISTRICT\n",
    "def Map_insur_District(df,state):\n",
    "    tacy = df[df[\"States\"] == state] # Year df\n",
    "    tacy.reset_index(drop=True, inplace = True)\n",
    "\n",
    "    tacyg = tacy.groupby(\"Districts\")[[\"Transaction_count\",\"Transaction_amount\"]].sum()\n",
    "    tacyg.reset_index(inplace=True)\n",
    "\n",
    "    fig_bar_1 = px.bar(tacyg, x=\"Districts\", y=\"Transaction_amount\",\n",
    "                       title=f\"{state.upper()} - DISTRICT AND TRANSACTION AMOUNT\")\n",
    "    fig_bar_1.show()\n",
    "\n",
    "    fig_bar_2 = px.bar(tacyg, x=\"Districts\", y=\"Transaction_count\",\n",
    "                       title=f\"{state.upper()} - DISTRICT AND TRANSACTION COUNT\")\n",
    "    fig_bar_2.show()"
   ]
  },
  {
   "cell_type": "code",
   "execution_count": 19,
   "metadata": {},
   "outputs": [],
   "source": [
    "#MAP TRANSACTION DISTRICT\n",
    "def Map_tran_District(df,state):\n",
    "    tacy = df[df[\"States\"] == state] # Year df\n",
    "    tacy.reset_index(drop=True, inplace = True)\n",
    "\n",
    "    tacyg = tacy.groupby(\"District\")[[\"Transaction_count\",\"Transaction_amount\"]].sum()\n",
    "    tacyg.reset_index(inplace=True)\n",
    "\n",
    "    fig_bar_1 = px.bar(tacyg, x=\"District\", y=\"Transaction_amount\",\n",
    "                       title=f\"{state.upper()} - DISTRICT AND TRANSACTION AMOUNT\")\n",
    "    fig_bar_1.show()\n",
    "\n",
    "    fig_bar_2 = px.bar(tacyg, x=\"District\", y=\"Transaction_count\",\n",
    "                       title=f\"{state.upper()} - DISTRICT AND TRANSACTION COUNT\")\n",
    "    fig_bar_2.show()"
   ]
  },
  {
   "cell_type": "code",
   "execution_count": 20,
   "metadata": {},
   "outputs": [],
   "source": [
    "# MAP USER (YEAR)\n",
    "def map_user_plot_1(df,year):   \n",
    "    muy = df[df[\"Years\"]==year]\n",
    "    muy.reset_index(drop=True, inplace =True)\n",
    "\n",
    "    muyg = muy.groupby(\"States\")[[\"RegisteredUser\",\"AppOpens\"]].sum()\n",
    "    muyg.reset_index(inplace = True)\n",
    "\n",
    "    fig_line_1 = px.line(muyg, x=\"States\", y=[\"RegisteredUser\",\"AppOpens\"],\n",
    "                            title=f\"REGISTERED USER & APPOPENS - {year}\", markers=True)\n",
    "    fig_line_1.show()\n",
    "\n",
    "    return muy"
   ]
  },
  {
   "cell_type": "code",
   "execution_count": 21,
   "metadata": {},
   "outputs": [],
   "source": [
    "# MAP USER (QUARTER)\n",
    "def map_user_plot_2(df,quarter):   \n",
    "    muyq = df[df[\"Quarter\"]==quarter]\n",
    "    muyq.reset_index(drop=True, inplace =True)\n",
    "\n",
    "    muyqg = muyq.groupby(\"States\")[[\"RegisteredUser\",\"AppOpens\"]].sum()\n",
    "    muyqg.reset_index(inplace = True)\n",
    "\n",
    "    fig_line_1 = px.line(muyqg, x=\"States\", y=[\"RegisteredUser\",\"AppOpens\"],\n",
    "                            title=f\"REGISTERED USER & APPOPENS - Quarter {quarter}\", markers=True)\n",
    "    fig_line_1.show()\n",
    "\n",
    "    return muyq"
   ]
  },
  {
   "cell_type": "code",
   "execution_count": 22,
   "metadata": {},
   "outputs": [],
   "source": [
    "# MAP USER FOR REGISTEREDUSED & APPOPENS\n",
    "def map_user_plot_3(df, states):\n",
    "    muyqs = df[df[\"States\"]==states]\n",
    "    muyqs.reset_index(drop=True, inplace =True)\n",
    "\n",
    "    fig_map_user_bar_1 = px.bar(muyqs,x=\"Districts\", y = \"RegisteredUser\", \n",
    "                                title=\"REGISTERED USER\",height=500)\n",
    "    fig_map_user_bar_1.show()\n",
    "\n",
    "    fig_map_user_bar_2 = px.bar(muyqs,x=\"Districts\", y = \"AppOpens\", \n",
    "                                title=\"APP OPENS\",height=500)\n",
    "    fig_map_user_bar_2.show()"
   ]
  },
  {
   "cell_type": "code",
   "execution_count": 23,
   "metadata": {},
   "outputs": [],
   "source": [
    "#TOP INSURANCE (1)\n",
    "def Top_insurance_plot_1(df,state):\n",
    "    tiy = df[df[\"States\"]==state]\n",
    "    tiy.reset_index(drop=True, inplace =True)\n",
    "\n",
    "    fig_top_insur_bar_1 = px.bar(tiy,x=\"Quarter\", y = \"Transaction_amount\", hover_data=\"Pincodes\",\n",
    "                                    title=\"TRANSACTION AMOUNT\",height=800)\n",
    "    fig_top_insur_bar_1.show()\n",
    "\n",
    "    fig_top_insur_bar_2 = px.bar(tiy,x=\"Quarter\", y = \"Transaction_count\", hover_data=\"Pincodes\",\n",
    "                                    title=\"TRANSACTION COUNT\",height=800)\n",
    "    fig_top_insur_bar_2.show()"
   ]
  },
  {
   "cell_type": "code",
   "execution_count": 24,
   "metadata": {},
   "outputs": [],
   "source": [
    "#TOP USER\n",
    "def top_user_plot_1(df,year):\n",
    "    tuy = df[df[\"Years\"]==year]\n",
    "    tuy.reset_index(drop=True, inplace =True)\n",
    "\n",
    "    tuyg = pd.DataFrame(tuy.groupby([\"States\",\"Quarter\"])[\"RegisteredUsers\"].sum())\n",
    "    tuyg.reset_index(inplace = True)\n",
    "\n",
    "    fig_top_plot_1=px.bar(tuyg, x=\"States\",y=\"RegisteredUsers\",color=\"Quarter\",\n",
    "                          title=f\"REGISTERED USERS - {year}\",hover_name=\"States\")\n",
    "    fig_top_plot_1.show()\n",
    "\n",
    "    return tuy"
   ]
  },
  {
   "cell_type": "code",
   "execution_count": 25,
   "metadata": {},
   "outputs": [],
   "source": [
    "# TOP USER STATE\n",
    "def top_user_plot_2(df,state):\n",
    "    tuys = df[df[\"States\"]==state]\n",
    "    tuys.reset_index(drop=True, inplace =True)\n",
    "\n",
    "    fig_top_plot_2=px.bar(tuys, x=\"Quarter\",y=\"RegisteredUsers\", title=\"REGISTERED USERS,QUARTER, PINCODES\",\n",
    "                        hover_data=\"Pincodes\",color=\"RegisteredUsers\")\n",
    "    fig_top_plot_2.show()"
   ]
  },
  {
   "cell_type": "markdown",
   "metadata": {},
   "source": [
    "AGGREGATED INSURANCE"
   ]
  },
  {
   "cell_type": "code",
   "execution_count": null,
   "metadata": {},
   "outputs": [],
   "source": [
    "tac_Y = Transaction_amount_count_Y(Aggre_insurance,2023)"
   ]
  },
  {
   "cell_type": "code",
   "execution_count": null,
   "metadata": {},
   "outputs": [],
   "source": [
    "Transaction_amount_count_Y_Q(tac_Y,4)"
   ]
  },
  {
   "cell_type": "markdown",
   "metadata": {},
   "source": [
    "AGGREGATED TRANSACTION"
   ]
  },
  {
   "cell_type": "code",
   "execution_count": null,
   "metadata": {},
   "outputs": [],
   "source": [
    "Aggre_tran_tac_Y = Transaction_amount_count_Y (Aggre_transaction,2023)"
   ]
  },
  {
   "cell_type": "code",
   "execution_count": null,
   "metadata": {},
   "outputs": [],
   "source": [
    "Aggre_Tran_Transaction_type(Aggre_tran_tac_Y, \"Tamil Nadu\")"
   ]
  },
  {
   "cell_type": "code",
   "execution_count": null,
   "metadata": {},
   "outputs": [],
   "source": [
    "Aggre_tran_tac_Y_Q=Transaction_amount_count_Y_Q(Aggre_tran_tac_Y,3)"
   ]
  },
  {
   "cell_type": "code",
   "execution_count": null,
   "metadata": {},
   "outputs": [],
   "source": [
    "Aggre_Tran_Transaction_type(Aggre_tran_tac_Y_Q, \"Tamil Nadu\")"
   ]
  },
  {
   "cell_type": "markdown",
   "metadata": {},
   "source": [
    "AGGREGATED USER"
   ]
  },
  {
   "cell_type": "code",
   "execution_count": null,
   "metadata": {},
   "outputs": [],
   "source": [
    "Aggre_user_Y= Aggre_user_plot_1(Aggre_user,2020)"
   ]
  },
  {
   "cell_type": "code",
   "execution_count": null,
   "metadata": {},
   "outputs": [],
   "source": [
    "Aggre_user_Y_Q= Aggre_user_plot_2(Aggre_user_Y,3)"
   ]
  },
  {
   "cell_type": "code",
   "execution_count": null,
   "metadata": {},
   "outputs": [],
   "source": [
    "Aggre_user_plot_3(Aggre_user_Y_Q, \"Tamil Nadu\")"
   ]
  },
  {
   "cell_type": "markdown",
   "metadata": {},
   "source": [
    "MAP INSURANCE\n"
   ]
  },
  {
   "cell_type": "code",
   "execution_count": null,
   "metadata": {},
   "outputs": [],
   "source": [
    "Map_insur_tac_Y=Transaction_amount_count_Y (Map_insurance,2023)"
   ]
  },
  {
   "cell_type": "code",
   "execution_count": null,
   "metadata": {},
   "outputs": [],
   "source": [
    "Map_insur_District(Map_insur_tac_Y, \"West Bengal\")"
   ]
  },
  {
   "cell_type": "code",
   "execution_count": null,
   "metadata": {},
   "outputs": [],
   "source": [
    "Map_insur_tac_Y_Q=Transaction_amount_count_Y_Q(Map_insur_tac_Y,3)"
   ]
  },
  {
   "cell_type": "code",
   "execution_count": null,
   "metadata": {},
   "outputs": [],
   "source": [
    "Map_insur_District(Map_insur_tac_Y_Q, \"Tamil Nadu\")"
   ]
  },
  {
   "cell_type": "markdown",
   "metadata": {},
   "source": [
    "MAP TRANSACTION"
   ]
  },
  {
   "cell_type": "code",
   "execution_count": null,
   "metadata": {},
   "outputs": [],
   "source": [
    "Map_tran_tac_Y=Transaction_amount_count_Y (Map_transaction,2023)"
   ]
  },
  {
   "cell_type": "code",
   "execution_count": null,
   "metadata": {},
   "outputs": [],
   "source": [
    "Map_tran_District(Map_tran_tac_Y, \"West Bengal\")"
   ]
  },
  {
   "cell_type": "code",
   "execution_count": null,
   "metadata": {},
   "outputs": [],
   "source": [
    "Map_tran_tac_Y_Q=Transaction_amount_count_Y_Q(Map_tran_tac_Y,3)"
   ]
  },
  {
   "cell_type": "code",
   "execution_count": null,
   "metadata": {},
   "outputs": [],
   "source": [
    "Map_tran_District(Map_tran_tac_Y_Q, \"Tamil Nadu\")"
   ]
  },
  {
   "cell_type": "markdown",
   "metadata": {},
   "source": [
    "MAP USER"
   ]
  },
  {
   "cell_type": "code",
   "execution_count": null,
   "metadata": {},
   "outputs": [],
   "source": [
    "Map_user_Y = map_user_plot_1(Map_user,2020)"
   ]
  },
  {
   "cell_type": "code",
   "execution_count": null,
   "metadata": {},
   "outputs": [],
   "source": [
    "Map_user_Y_Q = map_user_plot_2(Map_user_Y,3)"
   ]
  },
  {
   "cell_type": "code",
   "execution_count": null,
   "metadata": {},
   "outputs": [],
   "source": [
    "map_user_plot_3(Map_user_Y_Q, \"Tamil Nadu\")"
   ]
  },
  {
   "cell_type": "markdown",
   "metadata": {},
   "source": [
    "TOP INSURANCE"
   ]
  },
  {
   "cell_type": "code",
   "execution_count": null,
   "metadata": {},
   "outputs": [],
   "source": [
    "Top_insur_tac_Y=Transaction_amount_count_Y (Top_insurance,2023)"
   ]
  },
  {
   "cell_type": "code",
   "execution_count": null,
   "metadata": {},
   "outputs": [],
   "source": [
    "Top_insurance_plot_1(Top_insur_tac_Y,\"West Bengal\")"
   ]
  },
  {
   "cell_type": "code",
   "execution_count": null,
   "metadata": {},
   "outputs": [],
   "source": [
    "Top_insur_tac_Y_Q=Transaction_amount_count_Y_Q(Top_insur_tac_Y,3)"
   ]
  },
  {
   "cell_type": "markdown",
   "metadata": {},
   "source": [
    "TOP TRANSACTION"
   ]
  },
  {
   "cell_type": "code",
   "execution_count": null,
   "metadata": {},
   "outputs": [],
   "source": [
    "Top_tran_tac_Y=Transaction_amount_count_Y (Top_transaction,2023)"
   ]
  },
  {
   "cell_type": "code",
   "execution_count": null,
   "metadata": {},
   "outputs": [],
   "source": [
    "Top_insurance_plot_1(Top_tran_tac_Y,\"West Bengal\")"
   ]
  },
  {
   "cell_type": "code",
   "execution_count": null,
   "metadata": {},
   "outputs": [],
   "source": [
    "Top_tran_tac_Y_Q=Transaction_amount_count_Y_Q(Top_tran_tac_Y,3)"
   ]
  },
  {
   "cell_type": "markdown",
   "metadata": {},
   "source": [
    "TOP USER"
   ]
  },
  {
   "cell_type": "code",
   "execution_count": null,
   "metadata": {},
   "outputs": [],
   "source": [
    "Top_user_Y = top_user_plot_1(Top_user, 2021)"
   ]
  },
  {
   "cell_type": "code",
   "execution_count": null,
   "metadata": {},
   "outputs": [],
   "source": [
    "top_user_plot_2(Top_user_Y, \"Tamil Nadu\")"
   ]
  },
  {
   "cell_type": "code",
   "execution_count": null,
   "metadata": {},
   "outputs": [],
   "source": []
  },
  {
   "cell_type": "code",
   "execution_count": null,
   "metadata": {},
   "outputs": [],
   "source": []
  },
  {
   "cell_type": "code",
   "execution_count": null,
   "metadata": {},
   "outputs": [],
   "source": []
  },
  {
   "cell_type": "code",
   "execution_count": null,
   "metadata": {},
   "outputs": [],
   "source": []
  },
  {
   "cell_type": "code",
   "execution_count": null,
   "metadata": {},
   "outputs": [],
   "source": []
  },
  {
   "cell_type": "code",
   "execution_count": null,
   "metadata": {},
   "outputs": [],
   "source": []
  }
 ],
 "metadata": {
  "kernelspec": {
   "display_name": ".venv",
   "language": "python",
   "name": "python3"
  },
  "language_info": {
   "codemirror_mode": {
    "name": "ipython",
    "version": 3
   },
   "file_extension": ".py",
   "mimetype": "text/x-python",
   "name": "python",
   "nbconvert_exporter": "python",
   "pygments_lexer": "ipython3",
   "version": "3.12.2"
  }
 },
 "nbformat": 4,
 "nbformat_minor": 2
}
